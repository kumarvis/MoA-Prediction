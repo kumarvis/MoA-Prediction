{
 "cells": [
  {
   "cell_type": "code",
   "execution_count": 15,
   "metadata": {},
   "outputs": [],
   "source": [
    "import os\n",
    "import pandas as pd\n",
    "Base_path = '/home/shunya/Datasets/Lish-Moa'"
   ]
  },
  {
   "cell_type": "code",
   "execution_count": 16,
   "metadata": {},
   "outputs": [],
   "source": [
    "train_feature_csv_path = os.path.join(Base_path, 'train_features.csv')\n",
    "train_targets_scored_csv_path = os.path.join(Base_path, 'train_targets_scored.csv')\n",
    "test_feature_csv_path = os.path.join(Base_path, 'test_features.csv.csv')"
   ]
  },
  {
   "cell_type": "code",
   "execution_count": 17,
   "metadata": {},
   "outputs": [
    {
     "name": "stdout",
     "output_type": "stream",
     "text": [
      "(23814, 876)\n",
      "         sig_id cp_type  cp_time cp_dose     g-0     g-1     g-2     g-3  \\\n",
      "0  id_000644bb2  trt_cp       24      D1  1.0620  0.5577 -0.2479 -0.6208   \n",
      "1  id_000779bfc  trt_cp       72      D1  0.0743  0.4087  0.2991  0.0604   \n",
      "2  id_000a6266a  trt_cp       48      D1  0.6280  0.5817  1.5540 -0.0764   \n",
      "3  id_0015fd391  trt_cp       48      D1 -0.5138 -0.2491 -0.2656  0.5288   \n",
      "4  id_001626bd3  trt_cp       72      D2 -0.3254 -0.4009  0.9700  0.6919   \n",
      "\n",
      "      g-4     g-5  ...    c-90    c-91    c-92    c-93    c-94    c-95  \\\n",
      "0 -0.1944 -1.0120  ...  0.2862  0.2584  0.8076  0.5523 -0.1912  0.6584   \n",
      "1  1.0190  0.5207  ... -0.4265  0.7543  0.4708  0.0230  0.2957  0.4899   \n",
      "2 -0.0323  1.2390  ... -0.7250 -0.6297  0.6103  0.0223 -1.3240 -0.3174   \n",
      "3  4.0620 -0.8095  ... -2.0990 -0.6441 -5.6300 -1.3780 -0.8632 -1.2880   \n",
      "4  1.4180 -0.8244  ...  0.0042  0.0048  0.6670  1.0690  0.5523 -0.3031   \n",
      "\n",
      "     c-96    c-97    c-98    c-99  \n",
      "0 -0.3981  0.2139  0.3801  0.4176  \n",
      "1  0.1522  0.1241  0.6077  0.7371  \n",
      "2 -0.6417 -0.2187 -1.4080  0.6931  \n",
      "3 -1.6210 -0.8784 -0.3876 -0.8154  \n",
      "4  0.1094  0.2885 -0.3786  0.7125  \n",
      "\n",
      "[5 rows x 876 columns]\n"
     ]
    }
   ],
   "source": [
    "df_train_features = pd.read_csv(train_feature_csv_path)\n",
    "print(df_train_features.shape)\n",
    "print(df_train_features.head())"
   ]
  },
  {
   "cell_type": "code",
   "execution_count": 18,
   "metadata": {},
   "outputs": [
    {
     "name": "stdout",
     "output_type": "stream",
     "text": [
      "23814\n"
     ]
    }
   ],
   "source": [
    "print(df_train_features.sig_id.nunique())"
   ]
  },
  {
   "cell_type": "code",
   "execution_count": 19,
   "metadata": {},
   "outputs": [
    {
     "name": "stdout",
     "output_type": "stream",
     "text": [
      "trt_cp         21948\n",
      "ctl_vehicle     1866\n",
      "Name: cp_type, dtype: int64\n"
     ]
    }
   ],
   "source": [
    "print(df_train_features.cp_type.value_counts())"
   ]
  },
  {
   "cell_type": "code",
   "execution_count": 20,
   "metadata": {},
   "outputs": [
    {
     "name": "stdout",
     "output_type": "stream",
     "text": [
      "48    8250\n",
      "72    7792\n",
      "24    7772\n",
      "Name: cp_time, dtype: int64\n"
     ]
    }
   ],
   "source": [
    "print(df_train_features.cp_time.value_counts())"
   ]
  },
  {
   "cell_type": "code",
   "execution_count": 21,
   "metadata": {},
   "outputs": [
    {
     "name": "stdout",
     "output_type": "stream",
     "text": [
      "D1    12147\n",
      "D2    11667\n",
      "Name: cp_dose, dtype: int64\n"
     ]
    }
   ],
   "source": [
    "print(df_train_features.cp_dose.value_counts())"
   ]
  },
  {
   "cell_type": "code",
   "execution_count": 22,
   "metadata": {},
   "outputs": [
    {
     "name": "stdout",
     "output_type": "stream",
     "text": [
      "D1    12147\n",
      "D2    11667\n",
      "Name: cp_dose, dtype: int64\n"
     ]
    }
   ],
   "source": [
    "print(df_train_features.cp_dose.value_counts())"
   ]
  },
  {
   "cell_type": "code",
   "execution_count": 23,
   "metadata": {},
   "outputs": [],
   "source": [
    "df_train_target = pd.read_csv(train_targets_scored_csv_path)"
   ]
  },
  {
   "cell_type": "code",
   "execution_count": 24,
   "metadata": {},
   "outputs": [
    {
     "name": "stdout",
     "output_type": "stream",
     "text": [
      "(23814, 207)\n",
      "         sig_id  5-alpha_reductase_inhibitor  11-beta-hsd1_inhibitor  \\\n",
      "0  id_000644bb2                            0                       0   \n",
      "1  id_000779bfc                            0                       0   \n",
      "2  id_000a6266a                            0                       0   \n",
      "3  id_0015fd391                            0                       0   \n",
      "4  id_001626bd3                            0                       0   \n",
      "\n",
      "   acat_inhibitor  acetylcholine_receptor_agonist  \\\n",
      "0               0                               0   \n",
      "1               0                               0   \n",
      "2               0                               0   \n",
      "3               0                               0   \n",
      "4               0                               0   \n",
      "\n",
      "   acetylcholine_receptor_antagonist  acetylcholinesterase_inhibitor  \\\n",
      "0                                  0                               0   \n",
      "1                                  0                               0   \n",
      "2                                  0                               0   \n",
      "3                                  0                               0   \n",
      "4                                  0                               0   \n",
      "\n",
      "   adenosine_receptor_agonist  adenosine_receptor_antagonist  \\\n",
      "0                           0                              0   \n",
      "1                           0                              0   \n",
      "2                           0                              0   \n",
      "3                           0                              0   \n",
      "4                           0                              0   \n",
      "\n",
      "   adenylyl_cyclase_activator  ...  tropomyosin_receptor_kinase_inhibitor  \\\n",
      "0                           0  ...                                      0   \n",
      "1                           0  ...                                      0   \n",
      "2                           0  ...                                      0   \n",
      "3                           0  ...                                      0   \n",
      "4                           0  ...                                      0   \n",
      "\n",
      "   trpv_agonist  trpv_antagonist  tubulin_inhibitor  \\\n",
      "0             0                0                  0   \n",
      "1             0                0                  0   \n",
      "2             0                0                  0   \n",
      "3             0                0                  0   \n",
      "4             0                0                  0   \n",
      "\n",
      "   tyrosine_kinase_inhibitor  ubiquitin_specific_protease_inhibitor  \\\n",
      "0                          0                                      0   \n",
      "1                          0                                      0   \n",
      "2                          0                                      0   \n",
      "3                          0                                      0   \n",
      "4                          0                                      0   \n",
      "\n",
      "   vegfr_inhibitor  vitamin_b  vitamin_d_receptor_agonist  wnt_inhibitor  \n",
      "0                0          0                           0              0  \n",
      "1                0          0                           0              0  \n",
      "2                0          0                           0              0  \n",
      "3                0          0                           0              0  \n",
      "4                0          0                           0              0  \n",
      "\n",
      "[5 rows x 207 columns]\n"
     ]
    }
   ],
   "source": [
    "print(df_train_target.shape)\n",
    "print(df_train_target.head())"
   ]
  },
  {
   "cell_type": "code",
   "execution_count": 33,
   "metadata": {
    "scrolled": true
   },
   "outputs": [
    {
     "data": {
      "text/plain": [
       "atp-sensitive_potassium_channel_antagonist      1\n",
       "erbb2_inhibitor                                 1\n",
       "diuretic                                        6\n",
       "autotaxin_inhibitor                             6\n",
       "protein_phosphatase_inhibitor                   6\n",
       "                                             ... \n",
       "serotonin_receptor_antagonist                 404\n",
       "dopamine_receptor_antagonist                  424\n",
       "cyclooxygenase_inhibitor                      435\n",
       "proteasome_inhibitor                          726\n",
       "nfkb_inhibitor                                832\n",
       "Length: 206, dtype: object"
      ]
     },
     "execution_count": 33,
     "metadata": {},
     "output_type": "execute_result"
    }
   ],
   "source": [
    "df_train_target.sum()[1:].sort_values() ## in case of multi label this tells how much each lable contribute as we can see first tow have oly one occurence may be we can discard them "
   ]
  },
  {
   "cell_type": "code",
   "execution_count": null,
   "metadata": {},
   "outputs": [],
   "source": []
  }
 ],
 "metadata": {
  "kernelspec": {
   "display_name": "Python 3",
   "language": "python",
   "name": "python3"
  },
  "language_info": {
   "codemirror_mode": {
    "name": "ipython",
    "version": 3
   },
   "file_extension": ".py",
   "mimetype": "text/x-python",
   "name": "python",
   "nbconvert_exporter": "python",
   "pygments_lexer": "ipython3",
   "version": "3.7.4"
  }
 },
 "nbformat": 4,
 "nbformat_minor": 4
}
